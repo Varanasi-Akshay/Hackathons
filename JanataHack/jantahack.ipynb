{
 "cells": [
  {
   "cell_type": "code",
   "execution_count": 1,
   "metadata": {},
   "outputs": [],
   "source": [
    "import pandas as pd\n",
    "import numpy as np\n",
    "\n",
    "\n",
    "data = pd.read_csv('train_8wry4cB.csv')"
   ]
  },
  {
   "cell_type": "code",
   "execution_count": 2,
   "metadata": {},
   "outputs": [
    {
     "data": {
      "text/html": [
       "<div>\n",
       "<style scoped>\n",
       "    .dataframe tbody tr th:only-of-type {\n",
       "        vertical-align: middle;\n",
       "    }\n",
       "\n",
       "    .dataframe tbody tr th {\n",
       "        vertical-align: top;\n",
       "    }\n",
       "\n",
       "    .dataframe thead th {\n",
       "        text-align: right;\n",
       "    }\n",
       "</style>\n",
       "<table border=\"1\" class=\"dataframe\">\n",
       "  <thead>\n",
       "    <tr style=\"text-align: right;\">\n",
       "      <th></th>\n",
       "      <th>session_id</th>\n",
       "      <th>startTime</th>\n",
       "      <th>endTime</th>\n",
       "      <th>ProductList</th>\n",
       "      <th>gender</th>\n",
       "    </tr>\n",
       "  </thead>\n",
       "  <tbody>\n",
       "    <tr>\n",
       "      <th>0</th>\n",
       "      <td>u16159</td>\n",
       "      <td>15/12/14 18:11</td>\n",
       "      <td>15/12/14 18:12</td>\n",
       "      <td>A00002/B00003/C00006/D28435/;A00002/B00003/C00...</td>\n",
       "      <td>female</td>\n",
       "    </tr>\n",
       "    <tr>\n",
       "      <th>1</th>\n",
       "      <td>u10253</td>\n",
       "      <td>16/12/14 14:35</td>\n",
       "      <td>16/12/14 14:41</td>\n",
       "      <td>A00001/B00009/C00031/D29404/;A00001/B00009/C00...</td>\n",
       "      <td>male</td>\n",
       "    </tr>\n",
       "    <tr>\n",
       "      <th>2</th>\n",
       "      <td>u19037</td>\n",
       "      <td>01/12/14 15:58</td>\n",
       "      <td>01/12/14 15:58</td>\n",
       "      <td>A00002/B00001/C00020/D16944/</td>\n",
       "      <td>female</td>\n",
       "    </tr>\n",
       "    <tr>\n",
       "      <th>3</th>\n",
       "      <td>u14556</td>\n",
       "      <td>23/11/14 2:57</td>\n",
       "      <td>23/11/14 3:00</td>\n",
       "      <td>A00002/B00004/C00018/D10284/;A00002/B00004/C00...</td>\n",
       "      <td>female</td>\n",
       "    </tr>\n",
       "    <tr>\n",
       "      <th>4</th>\n",
       "      <td>u24295</td>\n",
       "      <td>17/12/14 16:44</td>\n",
       "      <td>17/12/14 16:46</td>\n",
       "      <td>A00001/B00001/C00012/D30805/;A00001/B00001/C00...</td>\n",
       "      <td>male</td>\n",
       "    </tr>\n",
       "  </tbody>\n",
       "</table>\n",
       "</div>"
      ],
      "text/plain": [
       "  session_id       startTime         endTime  \\\n",
       "0     u16159  15/12/14 18:11  15/12/14 18:12   \n",
       "1     u10253  16/12/14 14:35  16/12/14 14:41   \n",
       "2     u19037  01/12/14 15:58  01/12/14 15:58   \n",
       "3     u14556   23/11/14 2:57   23/11/14 3:00   \n",
       "4     u24295  17/12/14 16:44  17/12/14 16:46   \n",
       "\n",
       "                                         ProductList  gender  \n",
       "0  A00002/B00003/C00006/D28435/;A00002/B00003/C00...  female  \n",
       "1  A00001/B00009/C00031/D29404/;A00001/B00009/C00...    male  \n",
       "2                       A00002/B00001/C00020/D16944/  female  \n",
       "3  A00002/B00004/C00018/D10284/;A00002/B00004/C00...  female  \n",
       "4  A00001/B00001/C00012/D30805/;A00001/B00001/C00...    male  "
      ]
     },
     "execution_count": 2,
     "metadata": {},
     "output_type": "execute_result"
    }
   ],
   "source": [
    "data.head()\n"
   ]
  },
  {
   "cell_type": "code",
   "execution_count": 3,
   "metadata": {},
   "outputs": [
    {
     "data": {
      "text/plain": [
       "session_id     object\n",
       "startTime      object\n",
       "endTime        object\n",
       "ProductList    object\n",
       "gender         object\n",
       "dtype: object"
      ]
     },
     "execution_count": 3,
     "metadata": {},
     "output_type": "execute_result"
    }
   ],
   "source": [
    "data.dtypes"
   ]
  },
  {
   "cell_type": "code",
   "execution_count": 23,
   "metadata": {},
   "outputs": [
    {
     "data": {
      "text/plain": [
       "datetime.datetime(2011, 1, 3, 0, 0)"
      ]
     },
     "execution_count": 23,
     "metadata": {},
     "output_type": "execute_result"
    }
   ],
   "source": [
    "from datetime import datetime\n",
    "war_start = '2011-01-03'\n",
    "datetime.strptime(war_start, '%Y-%m-%d')\n",
    "\n",
    "# data['duration'] = data['endTime']-data['startTime'] \n",
    "# data['duration'].head()"
   ]
  },
  {
   "cell_type": "code",
   "execution_count": 5,
   "metadata": {},
   "outputs": [],
   "source": [
    "data['startTime'] = pd.to_datetime(data['startTime'])"
   ]
  },
  {
   "cell_type": "code",
   "execution_count": 6,
   "metadata": {},
   "outputs": [
    {
     "data": {
      "text/plain": [
       "session_id             object\n",
       "startTime      datetime64[ns]\n",
       "endTime                object\n",
       "ProductList            object\n",
       "gender                 object\n",
       "dtype: object"
      ]
     },
     "execution_count": 6,
     "metadata": {},
     "output_type": "execute_result"
    }
   ],
   "source": [
    "data.dtypes"
   ]
  },
  {
   "cell_type": "code",
   "execution_count": 7,
   "metadata": {},
   "outputs": [
    {
     "data": {
      "text/plain": [
       "session_id             object\n",
       "startTime      datetime64[ns]\n",
       "endTime        datetime64[ns]\n",
       "ProductList            object\n",
       "gender                 object\n",
       "dtype: object"
      ]
     },
     "execution_count": 7,
     "metadata": {},
     "output_type": "execute_result"
    }
   ],
   "source": [
    "data['endTime'] = pd.to_datetime(data['endTime'])\n",
    "data.dtypes"
   ]
  },
  {
   "cell_type": "code",
   "execution_count": 8,
   "metadata": {},
   "outputs": [],
   "source": [
    "data['duration'] = data['endTime'] - data['startTime']"
   ]
  },
  {
   "cell_type": "code",
   "execution_count": 9,
   "metadata": {},
   "outputs": [
    {
     "data": {
      "text/plain": [
       "0   00:01:00\n",
       "1   00:06:00\n",
       "2   00:00:00\n",
       "3   00:03:00\n",
       "4   00:02:00\n",
       "Name: duration, dtype: timedelta64[ns]"
      ]
     },
     "execution_count": 9,
     "metadata": {},
     "output_type": "execute_result"
    }
   ],
   "source": [
    "data['duration'].head()"
   ]
  },
  {
   "cell_type": "code",
   "execution_count": 10,
   "metadata": {},
   "outputs": [
    {
     "data": {
      "text/plain": [
       "0        A00002/B00003/C00006/D28435/;A00002/B00003/C00...\n",
       "1        A00001/B00009/C00031/D29404/;A00001/B00009/C00...\n",
       "2                             A00002/B00001/C00020/D16944/\n",
       "3        A00002/B00004/C00018/D10284/;A00002/B00004/C00...\n",
       "4        A00001/B00001/C00012/D30805/;A00001/B00001/C00...\n",
       "5                             A00002/B00002/C00081/D25039/\n",
       "6        A00002/B00011/C00180/D18487/;A00002/B00011/C00...\n",
       "7        A00002/B00001/C00059/D15254/;A00002/B00001/C00...\n",
       "8                             A00002/B00001/C00010/D06129/\n",
       "9        A00002/B00001/C00010/D12841/;A00002/B00002/C00...\n",
       "10                            A00002/B00007/C00024/D02625/\n",
       "11                            A00002/B00002/C00002/D22971/\n",
       "12       A00002/B00001/C00150/D35471/;A00002/B00001/C00...\n",
       "13       A00001/B00031/C00044/D01652/;A00001/B00031/C00...\n",
       "14       A00002/B00002/C00002/D21686/;A00002/B00002/C00...\n",
       "15       A00003/B00012/C00051/D07771/;A00003/B00012/C00...\n",
       "16                            A00002/B00007/C00024/D03342/\n",
       "17       A00003/B00022/C00048/D11574/;A00003/B00022/C00...\n",
       "18                            A00002/B00001/C00075/D30808/\n",
       "19       A00002/B00004/C00129/D10706/;A00002/B00004/C00...\n",
       "20                            A00004/B00013/C00083/D22322/\n",
       "21                            A00003/B00022/C00036/D27803/\n",
       "22       A00002/B00003/C00006/D30329/;A00002/B00003/C00...\n",
       "23                            A00002/B00001/C00059/D03308/\n",
       "24                            A00002/B00003/C00079/D28653/\n",
       "25       A00002/B00010/C00095/D25319/;A00002/B00010/C00...\n",
       "26                            A00001/B00031/C00091/D16015/\n",
       "27                            A00002/B00003/C00046/D31170/\n",
       "28                            A00001/B00015/C00284/D09455/\n",
       "29                            A00001/B00009/C00038/D00645/\n",
       "                               ...                        \n",
       "10470                         A00001/B00015/C00043/D16057/\n",
       "10471    A00003/B00012/C00051/D17990/;A00003/B00012/C00...\n",
       "10472                         A00002/B00001/C00010/D25587/\n",
       "10473                         A00002/B00004/C00018/D35004/\n",
       "10474    A00001/B00001/C00020/D21809/;A00001/B00001/C00...\n",
       "10475                         A00002/B00004/C00018/D30598/\n",
       "10476    A00002/B00003/C00005/D27219/;A00002/B00001/C00...\n",
       "10477    A00003/B00012/C00051/D00207/;A00003/B00012/C00...\n",
       "10478    A00003/B00021/C00055/D07787/;A00003/B00021/C00...\n",
       "10479    A00001/B00004/C00066/D07949/;A00002/B00004/C00...\n",
       "10480    A00002/B00003/C00037/D18269/;A00002/B00003/C00...\n",
       "10481                         A00002/B00003/C00046/D02480/\n",
       "10482    A00002/B00007/C00017/D04614/;A00002/B00007/C00...\n",
       "10483                         A00002/B00003/C00005/D27885/\n",
       "10484    A00002/B00001/C00150/D23746/;A00005/B00018/C00...\n",
       "10485                         A00002/B00002/C00007/D00266/\n",
       "10486                         A00002/B00002/C00007/D03133/\n",
       "10487                         A00002/B00007/C00016/D30900/\n",
       "10488                         A00005/B00032/C00094/D28677/\n",
       "10489                         A00003/B00035/C00106/D34823/\n",
       "10490                         A00003/B00012/C00048/D00230/\n",
       "10491    A00002/B00001/C00053/D01058/;A00002/B00001/C00...\n",
       "10492                         A00002/B00002/C00002/D09800/\n",
       "10493                         A00002/B00006/C00015/D31395/\n",
       "10494                         A00001/B00001/C00075/D30306/\n",
       "10495    A00002/B00002/C00007/D06407/;A00002/B00002/C00...\n",
       "10496                         A00006/B00030/C00334/D11660/\n",
       "10497                         A00002/B00002/C00007/D18028/\n",
       "10498    A00003/B00012/C00131/D09453/;A00003/B00012/C00...\n",
       "10499    A00002/B00001/C00010/D02309/;A00002/B00002/C00...\n",
       "Name: ProductList, Length: 10500, dtype: object"
      ]
     },
     "execution_count": 10,
     "metadata": {},
     "output_type": "execute_result"
    }
   ],
   "source": [
    "data['ProductList']"
   ]
  },
  {
   "cell_type": "code",
   "execution_count": 11,
   "metadata": {},
   "outputs": [
    {
     "data": {
      "text/plain": [
       "10500"
      ]
     },
     "execution_count": 11,
     "metadata": {},
     "output_type": "execute_result"
    }
   ],
   "source": [
    "len(data['session_id'].unique())"
   ]
  },
  {
   "cell_type": "code",
   "execution_count": 12,
   "metadata": {},
   "outputs": [
    {
     "data": {
      "text/plain": [
       "0    [A00002/B00003/C00006/D28435/, A00002/B00003/C...\n",
       "1    [A00001/B00009/C00031/D29404/, A00001/B00009/C...\n",
       "2                       [A00002/B00001/C00020/D16944/]\n",
       "3    [A00002/B00004/C00018/D10284/, A00002/B00004/C...\n",
       "4    [A00001/B00001/C00012/D30805/, A00001/B00001/C...\n",
       "Name: ProductList, dtype: object"
      ]
     },
     "execution_count": 12,
     "metadata": {},
     "output_type": "execute_result"
    }
   ],
   "source": [
    "data['ProductList'] = data['ProductList'].str.split(\";\")\n",
    "data['ProductList'].head()"
   ]
  },
  {
   "cell_type": "code",
   "execution_count": 13,
   "metadata": {},
   "outputs": [
    {
     "data": {
      "text/plain": [
       "7"
      ]
     },
     "execution_count": 13,
     "metadata": {},
     "output_type": "execute_result"
    }
   ],
   "source": [
    "len(data['ProductList'].iloc[1])"
   ]
  },
  {
   "cell_type": "code",
   "execution_count": 14,
   "metadata": {},
   "outputs": [],
   "source": [
    "data['no.of.products'] = data['ProductList'].apply(lambda x: len(x))"
   ]
  },
  {
   "cell_type": "code",
   "execution_count": 15,
   "metadata": {},
   "outputs": [
    {
     "data": {
      "text/plain": [
       "0    4\n",
       "1    7\n",
       "2    1\n",
       "3    3\n",
       "4    2\n",
       "Name: no.of.products, dtype: int64"
      ]
     },
     "execution_count": 15,
     "metadata": {},
     "output_type": "execute_result"
    }
   ],
   "source": [
    "data['no.of.products'].head()"
   ]
  },
  {
   "cell_type": "code",
   "execution_count": 16,
   "metadata": {},
   "outputs": [
    {
     "data": {
      "text/html": [
       "<div>\n",
       "<style scoped>\n",
       "    .dataframe tbody tr th:only-of-type {\n",
       "        vertical-align: middle;\n",
       "    }\n",
       "\n",
       "    .dataframe tbody tr th {\n",
       "        vertical-align: top;\n",
       "    }\n",
       "\n",
       "    .dataframe thead th {\n",
       "        text-align: right;\n",
       "    }\n",
       "</style>\n",
       "<table border=\"1\" class=\"dataframe\">\n",
       "  <thead>\n",
       "    <tr style=\"text-align: right;\">\n",
       "      <th></th>\n",
       "      <th>session_id</th>\n",
       "      <th>startTime</th>\n",
       "      <th>endTime</th>\n",
       "      <th>ProductList</th>\n",
       "      <th>gender</th>\n",
       "      <th>duration</th>\n",
       "      <th>no.of.products</th>\n",
       "    </tr>\n",
       "  </thead>\n",
       "  <tbody>\n",
       "    <tr>\n",
       "      <th>0</th>\n",
       "      <td>u16159</td>\n",
       "      <td>2014-12-15 18:11:00</td>\n",
       "      <td>2014-12-15 18:12:00</td>\n",
       "      <td>[A00002/B00003/C00006/D28435/, A00002/B00003/C...</td>\n",
       "      <td>female</td>\n",
       "      <td>00:01:00</td>\n",
       "      <td>4</td>\n",
       "    </tr>\n",
       "    <tr>\n",
       "      <th>1</th>\n",
       "      <td>u10253</td>\n",
       "      <td>2014-12-16 14:35:00</td>\n",
       "      <td>2014-12-16 14:41:00</td>\n",
       "      <td>[A00001/B00009/C00031/D29404/, A00001/B00009/C...</td>\n",
       "      <td>male</td>\n",
       "      <td>00:06:00</td>\n",
       "      <td>7</td>\n",
       "    </tr>\n",
       "    <tr>\n",
       "      <th>2</th>\n",
       "      <td>u19037</td>\n",
       "      <td>2014-01-12 15:58:00</td>\n",
       "      <td>2014-01-12 15:58:00</td>\n",
       "      <td>[A00002/B00001/C00020/D16944/]</td>\n",
       "      <td>female</td>\n",
       "      <td>00:00:00</td>\n",
       "      <td>1</td>\n",
       "    </tr>\n",
       "    <tr>\n",
       "      <th>3</th>\n",
       "      <td>u14556</td>\n",
       "      <td>2014-11-23 02:57:00</td>\n",
       "      <td>2014-11-23 03:00:00</td>\n",
       "      <td>[A00002/B00004/C00018/D10284/, A00002/B00004/C...</td>\n",
       "      <td>female</td>\n",
       "      <td>00:03:00</td>\n",
       "      <td>3</td>\n",
       "    </tr>\n",
       "    <tr>\n",
       "      <th>4</th>\n",
       "      <td>u24295</td>\n",
       "      <td>2014-12-17 16:44:00</td>\n",
       "      <td>2014-12-17 16:46:00</td>\n",
       "      <td>[A00001/B00001/C00012/D30805/, A00001/B00001/C...</td>\n",
       "      <td>male</td>\n",
       "      <td>00:02:00</td>\n",
       "      <td>2</td>\n",
       "    </tr>\n",
       "  </tbody>\n",
       "</table>\n",
       "</div>"
      ],
      "text/plain": [
       "  session_id           startTime             endTime  \\\n",
       "0     u16159 2014-12-15 18:11:00 2014-12-15 18:12:00   \n",
       "1     u10253 2014-12-16 14:35:00 2014-12-16 14:41:00   \n",
       "2     u19037 2014-01-12 15:58:00 2014-01-12 15:58:00   \n",
       "3     u14556 2014-11-23 02:57:00 2014-11-23 03:00:00   \n",
       "4     u24295 2014-12-17 16:44:00 2014-12-17 16:46:00   \n",
       "\n",
       "                                         ProductList  gender duration  \\\n",
       "0  [A00002/B00003/C00006/D28435/, A00002/B00003/C...  female 00:01:00   \n",
       "1  [A00001/B00009/C00031/D29404/, A00001/B00009/C...    male 00:06:00   \n",
       "2                     [A00002/B00001/C00020/D16944/]  female 00:00:00   \n",
       "3  [A00002/B00004/C00018/D10284/, A00002/B00004/C...  female 00:03:00   \n",
       "4  [A00001/B00001/C00012/D30805/, A00001/B00001/C...    male 00:02:00   \n",
       "\n",
       "   no.of.products  \n",
       "0               4  \n",
       "1               7  \n",
       "2               1  \n",
       "3               3  \n",
       "4               2  "
      ]
     },
     "execution_count": 16,
     "metadata": {},
     "output_type": "execute_result"
    }
   ],
   "source": [
    "data.head()"
   ]
  },
  {
   "cell_type": "code",
   "execution_count": 19,
   "metadata": {},
   "outputs": [],
   "source": [
    "# data['duration'] = data['duration'].apply(lambda x: x.total_seconds())\n",
    "data['duration'] = data['duration'].dt.total_seconds()"
   ]
  },
  {
   "cell_type": "code",
   "execution_count": 20,
   "metadata": {},
   "outputs": [
    {
     "data": {
      "text/plain": [
       "0     60.0\n",
       "1    360.0\n",
       "2      0.0\n",
       "3    180.0\n",
       "4    120.0\n",
       "Name: duration, dtype: float64"
      ]
     },
     "execution_count": 20,
     "metadata": {},
     "output_type": "execute_result"
    }
   ],
   "source": [
    "data['duration'].head()"
   ]
  },
  {
   "cell_type": "code",
   "execution_count": 25,
   "metadata": {},
   "outputs": [
    {
     "data": {
      "text/html": [
       "<div>\n",
       "<style scoped>\n",
       "    .dataframe tbody tr th:only-of-type {\n",
       "        vertical-align: middle;\n",
       "    }\n",
       "\n",
       "    .dataframe tbody tr th {\n",
       "        vertical-align: top;\n",
       "    }\n",
       "\n",
       "    .dataframe thead th {\n",
       "        text-align: right;\n",
       "    }\n",
       "</style>\n",
       "<table border=\"1\" class=\"dataframe\">\n",
       "  <thead>\n",
       "    <tr style=\"text-align: right;\">\n",
       "      <th></th>\n",
       "      <th>session_id</th>\n",
       "      <th>startTime</th>\n",
       "      <th>endTime</th>\n",
       "      <th>ProductList</th>\n",
       "      <th>gender</th>\n",
       "      <th>duration</th>\n",
       "      <th>no.of.products</th>\n",
       "    </tr>\n",
       "  </thead>\n",
       "  <tbody>\n",
       "    <tr>\n",
       "      <th>0</th>\n",
       "      <td>u16159</td>\n",
       "      <td>2014-12-15 18:11:00</td>\n",
       "      <td>2014-12-15 18:12:00</td>\n",
       "      <td>[A00002/B00003/C00006/D28435/, A00002/B00003/C...</td>\n",
       "      <td>female</td>\n",
       "      <td>60.0</td>\n",
       "      <td>4</td>\n",
       "    </tr>\n",
       "    <tr>\n",
       "      <th>1</th>\n",
       "      <td>u10253</td>\n",
       "      <td>2014-12-16 14:35:00</td>\n",
       "      <td>2014-12-16 14:41:00</td>\n",
       "      <td>[A00001/B00009/C00031/D29404/, A00001/B00009/C...</td>\n",
       "      <td>male</td>\n",
       "      <td>360.0</td>\n",
       "      <td>7</td>\n",
       "    </tr>\n",
       "    <tr>\n",
       "      <th>2</th>\n",
       "      <td>u19037</td>\n",
       "      <td>2014-01-12 15:58:00</td>\n",
       "      <td>2014-01-12 15:58:00</td>\n",
       "      <td>[A00002/B00001/C00020/D16944/]</td>\n",
       "      <td>female</td>\n",
       "      <td>0.0</td>\n",
       "      <td>1</td>\n",
       "    </tr>\n",
       "    <tr>\n",
       "      <th>3</th>\n",
       "      <td>u14556</td>\n",
       "      <td>2014-11-23 02:57:00</td>\n",
       "      <td>2014-11-23 03:00:00</td>\n",
       "      <td>[A00002/B00004/C00018/D10284/, A00002/B00004/C...</td>\n",
       "      <td>female</td>\n",
       "      <td>180.0</td>\n",
       "      <td>3</td>\n",
       "    </tr>\n",
       "    <tr>\n",
       "      <th>4</th>\n",
       "      <td>u24295</td>\n",
       "      <td>2014-12-17 16:44:00</td>\n",
       "      <td>2014-12-17 16:46:00</td>\n",
       "      <td>[A00001/B00001/C00012/D30805/, A00001/B00001/C...</td>\n",
       "      <td>male</td>\n",
       "      <td>120.0</td>\n",
       "      <td>2</td>\n",
       "    </tr>\n",
       "  </tbody>\n",
       "</table>\n",
       "</div>"
      ],
      "text/plain": [
       "  session_id           startTime             endTime  \\\n",
       "0     u16159 2014-12-15 18:11:00 2014-12-15 18:12:00   \n",
       "1     u10253 2014-12-16 14:35:00 2014-12-16 14:41:00   \n",
       "2     u19037 2014-01-12 15:58:00 2014-01-12 15:58:00   \n",
       "3     u14556 2014-11-23 02:57:00 2014-11-23 03:00:00   \n",
       "4     u24295 2014-12-17 16:44:00 2014-12-17 16:46:00   \n",
       "\n",
       "                                         ProductList  gender  duration  \\\n",
       "0  [A00002/B00003/C00006/D28435/, A00002/B00003/C...  female      60.0   \n",
       "1  [A00001/B00009/C00031/D29404/, A00001/B00009/C...    male     360.0   \n",
       "2                     [A00002/B00001/C00020/D16944/]  female       0.0   \n",
       "3  [A00002/B00004/C00018/D10284/, A00002/B00004/C...  female     180.0   \n",
       "4  [A00001/B00001/C00012/D30805/, A00001/B00001/C...    male     120.0   \n",
       "\n",
       "   no.of.products  \n",
       "0               4  \n",
       "1               7  \n",
       "2               1  \n",
       "3               3  \n",
       "4               2  "
      ]
     },
     "execution_count": 25,
     "metadata": {},
     "output_type": "execute_result"
    }
   ],
   "source": [
    "# data['startTime'] = pd.to_datatime(data['startTime'])\n",
    "# data['endTime'] = pd.to_datatime(data['endTime'])\n",
    "data.head()"
   ]
  },
  {
   "cell_type": "code",
   "execution_count": 26,
   "metadata": {},
   "outputs": [
    {
     "data": {
      "text/html": [
       "<div>\n",
       "<style scoped>\n",
       "    .dataframe tbody tr th:only-of-type {\n",
       "        vertical-align: middle;\n",
       "    }\n",
       "\n",
       "    .dataframe tbody tr th {\n",
       "        vertical-align: top;\n",
       "    }\n",
       "\n",
       "    .dataframe thead th {\n",
       "        text-align: right;\n",
       "    }\n",
       "</style>\n",
       "<table border=\"1\" class=\"dataframe\">\n",
       "  <thead>\n",
       "    <tr style=\"text-align: right;\">\n",
       "      <th></th>\n",
       "      <th>session_id</th>\n",
       "      <th>startTime</th>\n",
       "      <th>endTime</th>\n",
       "      <th>ProductList</th>\n",
       "      <th>gender</th>\n",
       "      <th>duration</th>\n",
       "      <th>no.of.products</th>\n",
       "      <th>start_year</th>\n",
       "      <th>start_month</th>\n",
       "    </tr>\n",
       "  </thead>\n",
       "  <tbody>\n",
       "    <tr>\n",
       "      <th>0</th>\n",
       "      <td>u16159</td>\n",
       "      <td>2014-12-15 18:11:00</td>\n",
       "      <td>2014-12-15 18:12:00</td>\n",
       "      <td>[A00002/B00003/C00006/D28435/, A00002/B00003/C...</td>\n",
       "      <td>female</td>\n",
       "      <td>60.0</td>\n",
       "      <td>4</td>\n",
       "      <td>2014</td>\n",
       "      <td>12</td>\n",
       "    </tr>\n",
       "    <tr>\n",
       "      <th>1</th>\n",
       "      <td>u10253</td>\n",
       "      <td>2014-12-16 14:35:00</td>\n",
       "      <td>2014-12-16 14:41:00</td>\n",
       "      <td>[A00001/B00009/C00031/D29404/, A00001/B00009/C...</td>\n",
       "      <td>male</td>\n",
       "      <td>360.0</td>\n",
       "      <td>7</td>\n",
       "      <td>2014</td>\n",
       "      <td>12</td>\n",
       "    </tr>\n",
       "    <tr>\n",
       "      <th>2</th>\n",
       "      <td>u19037</td>\n",
       "      <td>2014-01-12 15:58:00</td>\n",
       "      <td>2014-01-12 15:58:00</td>\n",
       "      <td>[A00002/B00001/C00020/D16944/]</td>\n",
       "      <td>female</td>\n",
       "      <td>0.0</td>\n",
       "      <td>1</td>\n",
       "      <td>2014</td>\n",
       "      <td>1</td>\n",
       "    </tr>\n",
       "    <tr>\n",
       "      <th>3</th>\n",
       "      <td>u14556</td>\n",
       "      <td>2014-11-23 02:57:00</td>\n",
       "      <td>2014-11-23 03:00:00</td>\n",
       "      <td>[A00002/B00004/C00018/D10284/, A00002/B00004/C...</td>\n",
       "      <td>female</td>\n",
       "      <td>180.0</td>\n",
       "      <td>3</td>\n",
       "      <td>2014</td>\n",
       "      <td>11</td>\n",
       "    </tr>\n",
       "    <tr>\n",
       "      <th>4</th>\n",
       "      <td>u24295</td>\n",
       "      <td>2014-12-17 16:44:00</td>\n",
       "      <td>2014-12-17 16:46:00</td>\n",
       "      <td>[A00001/B00001/C00012/D30805/, A00001/B00001/C...</td>\n",
       "      <td>male</td>\n",
       "      <td>120.0</td>\n",
       "      <td>2</td>\n",
       "      <td>2014</td>\n",
       "      <td>12</td>\n",
       "    </tr>\n",
       "  </tbody>\n",
       "</table>\n",
       "</div>"
      ],
      "text/plain": [
       "  session_id           startTime             endTime  \\\n",
       "0     u16159 2014-12-15 18:11:00 2014-12-15 18:12:00   \n",
       "1     u10253 2014-12-16 14:35:00 2014-12-16 14:41:00   \n",
       "2     u19037 2014-01-12 15:58:00 2014-01-12 15:58:00   \n",
       "3     u14556 2014-11-23 02:57:00 2014-11-23 03:00:00   \n",
       "4     u24295 2014-12-17 16:44:00 2014-12-17 16:46:00   \n",
       "\n",
       "                                         ProductList  gender  duration  \\\n",
       "0  [A00002/B00003/C00006/D28435/, A00002/B00003/C...  female      60.0   \n",
       "1  [A00001/B00009/C00031/D29404/, A00001/B00009/C...    male     360.0   \n",
       "2                     [A00002/B00001/C00020/D16944/]  female       0.0   \n",
       "3  [A00002/B00004/C00018/D10284/, A00002/B00004/C...  female     180.0   \n",
       "4  [A00001/B00001/C00012/D30805/, A00001/B00001/C...    male     120.0   \n",
       "\n",
       "   no.of.products  start_year  start_month  \n",
       "0               4        2014           12  \n",
       "1               7        2014           12  \n",
       "2               1        2014            1  \n",
       "3               3        2014           11  \n",
       "4               2        2014           12  "
      ]
     },
     "execution_count": 26,
     "metadata": {},
     "output_type": "execute_result"
    }
   ],
   "source": [
    "data['start_year'] = pd.DatetimeIndex(data['startTime']).year\n",
    "data['start_month'] = pd.DatetimeIndex(data['startTime']).month\n",
    "data.head()"
   ]
  },
  {
   "cell_type": "code",
   "execution_count": 27,
   "metadata": {},
   "outputs": [
    {
     "data": {
      "text/html": [
       "<div>\n",
       "<style scoped>\n",
       "    .dataframe tbody tr th:only-of-type {\n",
       "        vertical-align: middle;\n",
       "    }\n",
       "\n",
       "    .dataframe tbody tr th {\n",
       "        vertical-align: top;\n",
       "    }\n",
       "\n",
       "    .dataframe thead th {\n",
       "        text-align: right;\n",
       "    }\n",
       "</style>\n",
       "<table border=\"1\" class=\"dataframe\">\n",
       "  <thead>\n",
       "    <tr style=\"text-align: right;\">\n",
       "      <th></th>\n",
       "      <th>session_id</th>\n",
       "      <th>startTime</th>\n",
       "      <th>endTime</th>\n",
       "      <th>ProductList</th>\n",
       "      <th>gender</th>\n",
       "      <th>duration</th>\n",
       "      <th>no.of.products</th>\n",
       "      <th>start_year</th>\n",
       "      <th>start_month</th>\n",
       "      <th>start_day</th>\n",
       "      <th>end_year</th>\n",
       "      <th>end_month</th>\n",
       "      <th>end_day</th>\n",
       "    </tr>\n",
       "  </thead>\n",
       "  <tbody>\n",
       "    <tr>\n",
       "      <th>0</th>\n",
       "      <td>u16159</td>\n",
       "      <td>2014-12-15 18:11:00</td>\n",
       "      <td>2014-12-15 18:12:00</td>\n",
       "      <td>[A00002/B00003/C00006/D28435/, A00002/B00003/C...</td>\n",
       "      <td>female</td>\n",
       "      <td>60.0</td>\n",
       "      <td>4</td>\n",
       "      <td>2014</td>\n",
       "      <td>12</td>\n",
       "      <td>15</td>\n",
       "      <td>2014</td>\n",
       "      <td>12</td>\n",
       "      <td>15</td>\n",
       "    </tr>\n",
       "    <tr>\n",
       "      <th>1</th>\n",
       "      <td>u10253</td>\n",
       "      <td>2014-12-16 14:35:00</td>\n",
       "      <td>2014-12-16 14:41:00</td>\n",
       "      <td>[A00001/B00009/C00031/D29404/, A00001/B00009/C...</td>\n",
       "      <td>male</td>\n",
       "      <td>360.0</td>\n",
       "      <td>7</td>\n",
       "      <td>2014</td>\n",
       "      <td>12</td>\n",
       "      <td>16</td>\n",
       "      <td>2014</td>\n",
       "      <td>12</td>\n",
       "      <td>16</td>\n",
       "    </tr>\n",
       "    <tr>\n",
       "      <th>2</th>\n",
       "      <td>u19037</td>\n",
       "      <td>2014-01-12 15:58:00</td>\n",
       "      <td>2014-01-12 15:58:00</td>\n",
       "      <td>[A00002/B00001/C00020/D16944/]</td>\n",
       "      <td>female</td>\n",
       "      <td>0.0</td>\n",
       "      <td>1</td>\n",
       "      <td>2014</td>\n",
       "      <td>1</td>\n",
       "      <td>12</td>\n",
       "      <td>2014</td>\n",
       "      <td>1</td>\n",
       "      <td>12</td>\n",
       "    </tr>\n",
       "    <tr>\n",
       "      <th>3</th>\n",
       "      <td>u14556</td>\n",
       "      <td>2014-11-23 02:57:00</td>\n",
       "      <td>2014-11-23 03:00:00</td>\n",
       "      <td>[A00002/B00004/C00018/D10284/, A00002/B00004/C...</td>\n",
       "      <td>female</td>\n",
       "      <td>180.0</td>\n",
       "      <td>3</td>\n",
       "      <td>2014</td>\n",
       "      <td>11</td>\n",
       "      <td>23</td>\n",
       "      <td>2014</td>\n",
       "      <td>11</td>\n",
       "      <td>23</td>\n",
       "    </tr>\n",
       "    <tr>\n",
       "      <th>4</th>\n",
       "      <td>u24295</td>\n",
       "      <td>2014-12-17 16:44:00</td>\n",
       "      <td>2014-12-17 16:46:00</td>\n",
       "      <td>[A00001/B00001/C00012/D30805/, A00001/B00001/C...</td>\n",
       "      <td>male</td>\n",
       "      <td>120.0</td>\n",
       "      <td>2</td>\n",
       "      <td>2014</td>\n",
       "      <td>12</td>\n",
       "      <td>17</td>\n",
       "      <td>2014</td>\n",
       "      <td>12</td>\n",
       "      <td>17</td>\n",
       "    </tr>\n",
       "  </tbody>\n",
       "</table>\n",
       "</div>"
      ],
      "text/plain": [
       "  session_id           startTime             endTime  \\\n",
       "0     u16159 2014-12-15 18:11:00 2014-12-15 18:12:00   \n",
       "1     u10253 2014-12-16 14:35:00 2014-12-16 14:41:00   \n",
       "2     u19037 2014-01-12 15:58:00 2014-01-12 15:58:00   \n",
       "3     u14556 2014-11-23 02:57:00 2014-11-23 03:00:00   \n",
       "4     u24295 2014-12-17 16:44:00 2014-12-17 16:46:00   \n",
       "\n",
       "                                         ProductList  gender  duration  \\\n",
       "0  [A00002/B00003/C00006/D28435/, A00002/B00003/C...  female      60.0   \n",
       "1  [A00001/B00009/C00031/D29404/, A00001/B00009/C...    male     360.0   \n",
       "2                     [A00002/B00001/C00020/D16944/]  female       0.0   \n",
       "3  [A00002/B00004/C00018/D10284/, A00002/B00004/C...  female     180.0   \n",
       "4  [A00001/B00001/C00012/D30805/, A00001/B00001/C...    male     120.0   \n",
       "\n",
       "   no.of.products  start_year  start_month  start_day  end_year  end_month  \\\n",
       "0               4        2014           12         15      2014         12   \n",
       "1               7        2014           12         16      2014         12   \n",
       "2               1        2014            1         12      2014          1   \n",
       "3               3        2014           11         23      2014         11   \n",
       "4               2        2014           12         17      2014         12   \n",
       "\n",
       "   end_day  \n",
       "0       15  \n",
       "1       16  \n",
       "2       12  \n",
       "3       23  \n",
       "4       17  "
      ]
     },
     "execution_count": 27,
     "metadata": {},
     "output_type": "execute_result"
    }
   ],
   "source": [
    "data['start_day'] = pd.DatetimeIndex(data['startTime']).day\n",
    "data['end_year'] = pd.DatetimeIndex(data['endTime']).year\n",
    "data['end_month'] = pd.DatetimeIndex(data['endTime']).month\n",
    "data['end_day'] = pd.DatetimeIndex(data['endTime']).day\n",
    "data.head()"
   ]
  },
  {
   "cell_type": "code",
   "execution_count": 29,
   "metadata": {},
   "outputs": [],
   "source": [
    "import seaborn as sns\n",
    "import matplotlib.pyplot as plt\n",
    "from sklearn.model_selection import train_test_split\n",
    "from sklearn.metrics import confusion_matrix, accuracy_score, classification_report\n",
    "\n",
    "# Split between train and test \n",
    "X_train, X_test, y_train, y_test = train_test_split(data[['duration','no.of.products','start_year','end_year','start_month','end_month','start_day','end_day']]\n",
    "                                                    , data.gender\n",
    "                                                    , test_size=0.25\n",
    "                                                    , shuffle=True\n",
    "                                                    , random_state=4\n",
    "                                                   )\n",
    "\n",
    "\n",
    "# the confusion matrix heat map plot\n",
    "def print_confusion_matrix(confusion_matrix, class_names, figsize = (10,7), fontsize=14):\n",
    "    \"\"\"Prints a confusion matrix, as returned by sklearn.metrics.confusion_matrix, as a heatmap.\n",
    "    \n",
    "    Arguments\n",
    "    ---------\n",
    "    confusion_matrix: numpy.ndarray\n",
    "        The numpy.ndarray object returned from a call to sklearn.metrics.confusion_matrix. \n",
    "        Similarly constructed ndarrays can also be used.\n",
    "    class_names: list\n",
    "        An ordered list of class names, in the order they index the given confusion matrix.\n",
    "    figsize: tuple\n",
    "        A 2-long tuple, the first value determining the horizontal size of the ouputted figure,\n",
    "        the second determining the vertical size. Defaults to (10,7).\n",
    "    fontsize: int\n",
    "        Font size for axes labels. Defaults to 14.\n",
    "        \n",
    "    Returns\n",
    "    -------\n",
    "    matplotlib.figure.Figure\n",
    "        The resulting confusion matrix figure\n",
    "    \"\"\"\n",
    "    df_cm = pd.DataFrame(\n",
    "        confusion_matrix, index=class_names, columns=class_names, \n",
    "    )\n",
    "    fig = plt.figure(figsize=figsize)\n",
    "    try:\n",
    "        heatmap = sns.heatmap(df_cm, annot=True, fmt=\"d\")\n",
    "    except ValueError:\n",
    "        raise ValueError(\"Confusion matrix values must be integers.\")\n",
    "        \n",
    "    heatmap.yaxis.set_ticklabels(heatmap.yaxis.get_ticklabels(), rotation=0, ha='right', fontsize=fontsize)\n",
    "    heatmap.xaxis.set_ticklabels(heatmap.xaxis.get_ticklabels(), rotation=45, ha='right', fontsize=fontsize)\n",
    "    plt.ylabel('True label')\n",
    "    plt.xlabel('Predicted label')\n"
   ]
  },
  {
   "cell_type": "code",
   "execution_count": 32,
   "metadata": {},
   "outputs": [
    {
     "name": "stdout",
     "output_type": "stream",
     "text": [
      "0.7695238095238095\n"
     ]
    },
    {
     "data": {
      "image/png": "[encoded data removed]",
      "text/plain": [
       "<Figure size 720x504 with 2 Axes>"
      ]
     },
     "metadata": {
      "needs_background": "light"
     },
     "output_type": "display_data"
    }
   ],
   "source": [
    "\n",
    "from xgboost import XGBClassifier\n",
    "\n",
    "xgb = XGBClassifier()\n",
    "\n",
    "xgb.fit(X_train, y_train)\n",
    "xgb_predictions = xgb.predict(X_test) \n",
    "# model accuracy for X_test   \n",
    "accuracy = xgb.score(X_test, y_test) \n",
    "print(accuracy)\n",
    "# creating a confusion matrix for test\n",
    "cm = confusion_matrix(y_test, xgb_predictions) \n",
    "classes = y_test.unique()\n",
    "classes.sort()    \n",
    "print_confusion_matrix(cm, class_names = classes)\n",
    "\n",
    "\n",
    "\n"
   ]
  },
  {
   "cell_type": "code",
   "execution_count": null,
   "metadata": {},
   "outputs": [],
   "source": []
  }
 ],
 "metadata": {
  "kernelspec": {
   "display_name": "Python 3",
   "language": "python",
   "name": "python3"
  },
  "language_info": {
   "codemirror_mode": {
    "name": "ipython",
    "version": 3
   },
   "file_extension": ".py",
   "mimetype": "text/x-python",
   "name": "python",
   "nbconvert_exporter": "python",
   "pygments_lexer": "ipython3",
   "version": "3.7.3"
  },
  "toc": {
   "base_numbering": 1,
   "nav_menu": {},
   "number_sections": true,
   "sideBar": true,
   "skip_h1_title": false,
   "title_cell": "Table of Contents",
   "title_sidebar": "Contents",
   "toc_cell": false,
   "toc_position": {},
   "toc_section_display": true,
   "toc_window_display": false
  }
 },
 "nbformat": 4,
 "nbformat_minor": 2
}
